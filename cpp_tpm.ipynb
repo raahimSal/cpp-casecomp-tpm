{
 "cells": [
  {
   "cell_type": "code",
   "execution_count": 788,
   "metadata": {},
   "outputs": [],
   "source": [
    "import pandas as pd\n",
    "import numpy as np\n",
    "import matplotlib.pyplot as plt\n",
    "from pypfopt import expected_returns, risk_models, EfficientFrontier, objective_functions\n",
    "from sklearn.linear_model import LinearRegression, ElasticNet, Ridge, Lasso \n",
    "from sklearn.metrics import r2_score\n",
    "\n",
    "from alpha_vantage.timeseries import TimeSeries\n",
    "ts = TimeSeries(key='', output_format='pandas')"
   ]
  },
  {
   "cell_type": "code",
   "execution_count": 560,
   "metadata": {},
   "outputs": [],
   "source": [
    "data, meta_data = ts.get_daily_adjusted(symbol='LREN3.SA', outputsize='full')"
   ]
  },
  {
   "cell_type": "code",
   "execution_count": 460,
   "metadata": {},
   "outputs": [
    {
     "name": "stdout",
     "output_type": "stream",
     "text": [
      "IYC\n"
     ]
    }
   ],
   "source": [
    "# Setting up pipeline\n",
    "# factor_dict = {}\n",
    "# Factor exposures:\n",
    "_etfs = ['IYC']\n",
    "\n",
    "for ticker in _etfs:\n",
    "    temp_data, temp_meta_data = ts.get_daily_adjusted(symbol=ticker, outputsize='full')\n",
    "    factor_dict[ticker] = temp_data"
   ]
  },
  {
   "cell_type": "code",
   "execution_count": 566,
   "metadata": {},
   "outputs": [],
   "source": [
    "factor_etfs = ['JO','SOYB','WEAT','CORN', 'XLI', 'IYC']"
   ]
  },
  {
   "cell_type": "code",
   "execution_count": 567,
   "metadata": {},
   "outputs": [],
   "source": [
    "processed_factor_dict = {}\n",
    "\n",
    "for ticker in factor_etfs:\n",
    "    temp_df = factor_dict[ticker]\n",
    "    temp_df['daily return'] = temp_df.loc[:,'5. adjusted close'].pct_change()\n",
    "    processed_factor_dict[ticker] = temp_df"
   ]
  },
  {
   "cell_type": "code",
   "execution_count": 789,
   "metadata": {},
   "outputs": [],
   "source": [
    "# Building X dataframe for linear regression:\n",
    "X = pd.DataFrame(index=data.index)\n",
    "X = X.sort_index()\n",
    "for ticker in factor_etfs:\n",
    "    X[f'{ticker} Daily Returns'] = processed_factor_dict[ticker]['daily return'].sort_index()\n",
    "\n",
    "X = X.dropna()\n",
    "# X.sort_index(inplace=True)"
   ]
  },
  {
   "cell_type": "code",
   "execution_count": 790,
   "metadata": {},
   "outputs": [
    {
     "data": {
      "text/html": [
       "<div>\n",
       "<style scoped>\n",
       "    .dataframe tbody tr th:only-of-type {\n",
       "        vertical-align: middle;\n",
       "    }\n",
       "\n",
       "    .dataframe tbody tr th {\n",
       "        vertical-align: top;\n",
       "    }\n",
       "\n",
       "    .dataframe thead th {\n",
       "        text-align: right;\n",
       "    }\n",
       "</style>\n",
       "<table border=\"1\" class=\"dataframe\">\n",
       "  <thead>\n",
       "    <tr style=\"text-align: right;\">\n",
       "      <th></th>\n",
       "      <th>JO Daily Returns</th>\n",
       "      <th>SOYB Daily Returns</th>\n",
       "      <th>WEAT Daily Returns</th>\n",
       "      <th>CORN Daily Returns</th>\n",
       "      <th>XLI Daily Returns</th>\n",
       "      <th>IYC Daily Returns</th>\n",
       "    </tr>\n",
       "    <tr>\n",
       "      <th>date</th>\n",
       "      <th></th>\n",
       "      <th></th>\n",
       "      <th></th>\n",
       "      <th></th>\n",
       "      <th></th>\n",
       "      <th></th>\n",
       "    </tr>\n",
       "  </thead>\n",
       "  <tbody>\n",
       "    <tr>\n",
       "      <th>2018-02-01</th>\n",
       "      <td>0.009204</td>\n",
       "      <td>0.008291</td>\n",
       "      <td>0.009600</td>\n",
       "      <td>0.001753</td>\n",
       "      <td>0.020516</td>\n",
       "      <td>0.011719</td>\n",
       "    </tr>\n",
       "    <tr>\n",
       "      <th>2018-02-02</th>\n",
       "      <td>0.004727</td>\n",
       "      <td>0.008954</td>\n",
       "      <td>0.009693</td>\n",
       "      <td>0.007656</td>\n",
       "      <td>0.047548</td>\n",
       "      <td>0.036270</td>\n",
       "    </tr>\n",
       "    <tr>\n",
       "      <th>2018-02-05</th>\n",
       "      <td>-0.024369</td>\n",
       "      <td>-0.018559</td>\n",
       "      <td>-0.012759</td>\n",
       "      <td>-0.012216</td>\n",
       "      <td>-0.017939</td>\n",
       "      <td>-0.020862</td>\n",
       "    </tr>\n",
       "    <tr>\n",
       "      <th>2018-02-06</th>\n",
       "      <td>0.000008</td>\n",
       "      <td>0.003891</td>\n",
       "      <td>-0.026398</td>\n",
       "      <td>-0.003478</td>\n",
       "      <td>-0.001843</td>\n",
       "      <td>0.000584</td>\n",
       "    </tr>\n",
       "    <tr>\n",
       "      <th>2018-02-07</th>\n",
       "      <td>-0.000008</td>\n",
       "      <td>-0.001149</td>\n",
       "      <td>0.010989</td>\n",
       "      <td>0.001161</td>\n",
       "      <td>0.040126</td>\n",
       "      <td>0.042065</td>\n",
       "    </tr>\n",
       "    <tr>\n",
       "      <th>...</th>\n",
       "      <td>...</td>\n",
       "      <td>...</td>\n",
       "      <td>...</td>\n",
       "      <td>...</td>\n",
       "      <td>...</td>\n",
       "      <td>...</td>\n",
       "    </tr>\n",
       "    <tr>\n",
       "      <th>2020-07-27</th>\n",
       "      <td>0.013662</td>\n",
       "      <td>0.011794</td>\n",
       "      <td>0.005639</td>\n",
       "      <td>0.012753</td>\n",
       "      <td>0.006979</td>\n",
       "      <td>0.007553</td>\n",
       "    </tr>\n",
       "    <tr>\n",
       "      <th>2020-07-28</th>\n",
       "      <td>-0.026879</td>\n",
       "      <td>0.000000</td>\n",
       "      <td>-0.012987</td>\n",
       "      <td>0.005983</td>\n",
       "      <td>-0.014987</td>\n",
       "      <td>-0.009321</td>\n",
       "    </tr>\n",
       "    <tr>\n",
       "      <th>2020-07-29</th>\n",
       "      <td>-0.026175</td>\n",
       "      <td>-0.002114</td>\n",
       "      <td>0.006536</td>\n",
       "      <td>-0.002558</td>\n",
       "      <td>0.010139</td>\n",
       "      <td>0.001113</td>\n",
       "    </tr>\n",
       "    <tr>\n",
       "      <th>2020-07-30</th>\n",
       "      <td>-0.025240</td>\n",
       "      <td>-0.002811</td>\n",
       "      <td>-0.010166</td>\n",
       "      <td>0.000853</td>\n",
       "      <td>0.003764</td>\n",
       "      <td>-0.001411</td>\n",
       "    </tr>\n",
       "    <tr>\n",
       "      <th>2020-07-31</th>\n",
       "      <td>0.016170</td>\n",
       "      <td>-0.002104</td>\n",
       "      <td>0.017874</td>\n",
       "      <td>-0.004248</td>\n",
       "      <td>-0.004165</td>\n",
       "      <td>-0.003578</td>\n",
       "    </tr>\n",
       "  </tbody>\n",
       "</table>\n",
       "<p>602 rows × 6 columns</p>\n",
       "</div>"
      ],
      "text/plain": [
       "            JO Daily Returns  SOYB Daily Returns  WEAT Daily Returns  \\\n",
       "date                                                                   \n",
       "2018-02-01          0.009204            0.008291            0.009600   \n",
       "2018-02-02          0.004727            0.008954            0.009693   \n",
       "2018-02-05         -0.024369           -0.018559           -0.012759   \n",
       "2018-02-06          0.000008            0.003891           -0.026398   \n",
       "2018-02-07         -0.000008           -0.001149            0.010989   \n",
       "...                      ...                 ...                 ...   \n",
       "2020-07-27          0.013662            0.011794            0.005639   \n",
       "2020-07-28         -0.026879            0.000000           -0.012987   \n",
       "2020-07-29         -0.026175           -0.002114            0.006536   \n",
       "2020-07-30         -0.025240           -0.002811           -0.010166   \n",
       "2020-07-31          0.016170           -0.002104            0.017874   \n",
       "\n",
       "            CORN Daily Returns  XLI Daily Returns  IYC Daily Returns  \n",
       "date                                                                  \n",
       "2018-02-01            0.001753           0.020516           0.011719  \n",
       "2018-02-02            0.007656           0.047548           0.036270  \n",
       "2018-02-05           -0.012216          -0.017939          -0.020862  \n",
       "2018-02-06           -0.003478          -0.001843           0.000584  \n",
       "2018-02-07            0.001161           0.040126           0.042065  \n",
       "...                        ...                ...                ...  \n",
       "2020-07-27            0.012753           0.006979           0.007553  \n",
       "2020-07-28            0.005983          -0.014987          -0.009321  \n",
       "2020-07-29           -0.002558           0.010139           0.001113  \n",
       "2020-07-30            0.000853           0.003764          -0.001411  \n",
       "2020-07-31           -0.004248          -0.004165          -0.003578  \n",
       "\n",
       "[602 rows x 6 columns]"
      ]
     },
     "execution_count": 790,
     "metadata": {},
     "output_type": "execute_result"
    }
   ],
   "source": [
    "X"
   ]
  },
  {
   "cell_type": "code",
   "execution_count": 791,
   "metadata": {},
   "outputs": [
    {
     "data": {
      "text/plain": [
       "<matplotlib.axes._subplots.AxesSubplot at 0x28fff7c3688>"
      ]
     },
     "execution_count": 791,
     "metadata": {},
     "output_type": "execute_result"
    },
    {
     "data": {
      "image/png": "[encoded data removed]",
      "text/plain": [
       "<Figure size 432x288 with 1 Axes>"
      ]
     },
     "metadata": {
      "needs_background": "light"
     },
     "output_type": "display_data"
    }
   ],
   "source": [
    "y = pd.DataFrame(index = data.index)\n",
    "y = y.sort_index()\n",
    "y['LREN3 Daily Return'] = data.loc[:,'5. adjusted close'].sort_index().pct_change()\n",
    "etf_df = y.merge(right=X, how='inner', left_index=True, right_index=True)\n",
    "y = y.loc[etf_df.index]\n",
    "y.dropna(inplace=True)\n",
    "X = X.loc[y.index]\n",
    "X.dropna(inplace=True)\n",
    "y.cumsum().plot()"
   ]
  },
  {
   "cell_type": "code",
   "execution_count": 792,
   "metadata": {},
   "outputs": [
    {
     "name": "stdout",
     "output_type": "stream",
     "text": [
      "[[ 0.04517775 -0.09289595  0.00874534 -0.13701358 -0.19779874  0.54755811]]\n",
      "[0.00087449]\n"
     ]
    }
   ],
   "source": [
    "reg = LinearRegression().fit(X,y)\n",
    "print(reg.coef_)\n",
    "print(reg.intercept_)"
   ]
  },
  {
   "cell_type": "code",
   "execution_count": 793,
   "metadata": {},
   "outputs": [
    {
     "data": {
      "text/plain": [
       "0.03848335788213142"
      ]
     },
     "execution_count": 793,
     "metadata": {},
     "output_type": "execute_result"
    }
   ],
   "source": [
    "r2_score(y, reg.predict(X))"
   ]
  },
  {
   "cell_type": "code",
   "execution_count": 795,
   "metadata": {},
   "outputs": [
    {
     "data": {
      "text/html": [
       "<div>\n",
       "<style scoped>\n",
       "    .dataframe tbody tr th:only-of-type {\n",
       "        vertical-align: middle;\n",
       "    }\n",
       "\n",
       "    .dataframe tbody tr th {\n",
       "        vertical-align: top;\n",
       "    }\n",
       "\n",
       "    .dataframe thead th {\n",
       "        text-align: right;\n",
       "    }\n",
       "</style>\n",
       "<table border=\"1\" class=\"dataframe\">\n",
       "  <thead>\n",
       "    <tr style=\"text-align: right;\">\n",
       "      <th></th>\n",
       "      <th>LREN3 Daily Return</th>\n",
       "      <th>JO Daily Returns</th>\n",
       "      <th>SOYB Daily Returns</th>\n",
       "      <th>WEAT Daily Returns</th>\n",
       "      <th>CORN Daily Returns</th>\n",
       "      <th>XLI Daily Returns</th>\n",
       "      <th>IYC Daily Returns</th>\n",
       "    </tr>\n",
       "    <tr>\n",
       "      <th>date</th>\n",
       "      <th></th>\n",
       "      <th></th>\n",
       "      <th></th>\n",
       "      <th></th>\n",
       "      <th></th>\n",
       "      <th></th>\n",
       "      <th></th>\n",
       "    </tr>\n",
       "  </thead>\n",
       "  <tbody>\n",
       "    <tr>\n",
       "      <th>2018-02-01</th>\n",
       "      <td>-0.004493</td>\n",
       "      <td>0.009204</td>\n",
       "      <td>0.008291</td>\n",
       "      <td>0.009600</td>\n",
       "      <td>0.001753</td>\n",
       "      <td>0.020516</td>\n",
       "      <td>0.011719</td>\n",
       "    </tr>\n",
       "    <tr>\n",
       "      <th>2018-02-02</th>\n",
       "      <td>-0.011408</td>\n",
       "      <td>0.004727</td>\n",
       "      <td>0.008954</td>\n",
       "      <td>0.009693</td>\n",
       "      <td>0.007656</td>\n",
       "      <td>0.047548</td>\n",
       "      <td>0.036270</td>\n",
       "    </tr>\n",
       "    <tr>\n",
       "      <th>2018-02-05</th>\n",
       "      <td>-0.034624</td>\n",
       "      <td>-0.024369</td>\n",
       "      <td>-0.018559</td>\n",
       "      <td>-0.012759</td>\n",
       "      <td>-0.012216</td>\n",
       "      <td>-0.017939</td>\n",
       "      <td>-0.020862</td>\n",
       "    </tr>\n",
       "    <tr>\n",
       "      <th>2018-02-06</th>\n",
       "      <td>0.010843</td>\n",
       "      <td>0.000008</td>\n",
       "      <td>0.003891</td>\n",
       "      <td>-0.026398</td>\n",
       "      <td>-0.003478</td>\n",
       "      <td>-0.001843</td>\n",
       "      <td>0.000584</td>\n",
       "    </tr>\n",
       "    <tr>\n",
       "      <th>2018-02-07</th>\n",
       "      <td>-0.033278</td>\n",
       "      <td>-0.000008</td>\n",
       "      <td>-0.001149</td>\n",
       "      <td>0.010989</td>\n",
       "      <td>0.001161</td>\n",
       "      <td>0.040126</td>\n",
       "      <td>0.042065</td>\n",
       "    </tr>\n",
       "    <tr>\n",
       "      <th>...</th>\n",
       "      <td>...</td>\n",
       "      <td>...</td>\n",
       "      <td>...</td>\n",
       "      <td>...</td>\n",
       "      <td>...</td>\n",
       "      <td>...</td>\n",
       "      <td>...</td>\n",
       "    </tr>\n",
       "    <tr>\n",
       "      <th>2020-07-27</th>\n",
       "      <td>-0.029126</td>\n",
       "      <td>0.013662</td>\n",
       "      <td>0.011794</td>\n",
       "      <td>0.005639</td>\n",
       "      <td>0.012753</td>\n",
       "      <td>0.006979</td>\n",
       "      <td>0.007553</td>\n",
       "    </tr>\n",
       "    <tr>\n",
       "      <th>2020-07-28</th>\n",
       "      <td>0.003750</td>\n",
       "      <td>-0.026879</td>\n",
       "      <td>0.000000</td>\n",
       "      <td>-0.012987</td>\n",
       "      <td>0.005983</td>\n",
       "      <td>-0.014987</td>\n",
       "      <td>-0.009321</td>\n",
       "    </tr>\n",
       "    <tr>\n",
       "      <th>2020-07-29</th>\n",
       "      <td>0.038605</td>\n",
       "      <td>-0.026175</td>\n",
       "      <td>-0.002114</td>\n",
       "      <td>0.006536</td>\n",
       "      <td>-0.002558</td>\n",
       "      <td>0.010139</td>\n",
       "      <td>0.001113</td>\n",
       "    </tr>\n",
       "    <tr>\n",
       "      <th>2020-07-30</th>\n",
       "      <td>-0.007434</td>\n",
       "      <td>-0.025240</td>\n",
       "      <td>-0.002811</td>\n",
       "      <td>-0.010166</td>\n",
       "      <td>0.000853</td>\n",
       "      <td>0.003764</td>\n",
       "      <td>-0.001411</td>\n",
       "    </tr>\n",
       "    <tr>\n",
       "      <th>2020-07-31</th>\n",
       "      <td>-0.006282</td>\n",
       "      <td>0.016170</td>\n",
       "      <td>-0.002104</td>\n",
       "      <td>0.017874</td>\n",
       "      <td>-0.004248</td>\n",
       "      <td>-0.004165</td>\n",
       "      <td>-0.003578</td>\n",
       "    </tr>\n",
       "  </tbody>\n",
       "</table>\n",
       "<p>602 rows × 7 columns</p>\n",
       "</div>"
      ],
      "text/plain": [
       "            LREN3 Daily Return  JO Daily Returns  SOYB Daily Returns  \\\n",
       "date                                                                   \n",
       "2018-02-01           -0.004493          0.009204            0.008291   \n",
       "2018-02-02           -0.011408          0.004727            0.008954   \n",
       "2018-02-05           -0.034624         -0.024369           -0.018559   \n",
       "2018-02-06            0.010843          0.000008            0.003891   \n",
       "2018-02-07           -0.033278         -0.000008           -0.001149   \n",
       "...                        ...               ...                 ...   \n",
       "2020-07-27           -0.029126          0.013662            0.011794   \n",
       "2020-07-28            0.003750         -0.026879            0.000000   \n",
       "2020-07-29            0.038605         -0.026175           -0.002114   \n",
       "2020-07-30           -0.007434         -0.025240           -0.002811   \n",
       "2020-07-31           -0.006282          0.016170           -0.002104   \n",
       "\n",
       "            WEAT Daily Returns  CORN Daily Returns  XLI Daily Returns  \\\n",
       "date                                                                    \n",
       "2018-02-01            0.009600            0.001753           0.020516   \n",
       "2018-02-02            0.009693            0.007656           0.047548   \n",
       "2018-02-05           -0.012759           -0.012216          -0.017939   \n",
       "2018-02-06           -0.026398           -0.003478          -0.001843   \n",
       "2018-02-07            0.010989            0.001161           0.040126   \n",
       "...                        ...                 ...                ...   \n",
       "2020-07-27            0.005639            0.012753           0.006979   \n",
       "2020-07-28           -0.012987            0.005983          -0.014987   \n",
       "2020-07-29            0.006536           -0.002558           0.010139   \n",
       "2020-07-30           -0.010166            0.000853           0.003764   \n",
       "2020-07-31            0.017874           -0.004248          -0.004165   \n",
       "\n",
       "            IYC Daily Returns  \n",
       "date                           \n",
       "2018-02-01           0.011719  \n",
       "2018-02-02           0.036270  \n",
       "2018-02-05          -0.020862  \n",
       "2018-02-06           0.000584  \n",
       "2018-02-07           0.042065  \n",
       "...                       ...  \n",
       "2020-07-27           0.007553  \n",
       "2020-07-28          -0.009321  \n",
       "2020-07-29           0.001113  \n",
       "2020-07-30          -0.001411  \n",
       "2020-07-31          -0.003578  \n",
       "\n",
       "[602 rows x 7 columns]"
      ]
     },
     "execution_count": 795,
     "metadata": {},
     "output_type": "execute_result"
    }
   ],
   "source": [
    "etf_df"
   ]
  },
  {
   "cell_type": "code",
   "execution_count": 796,
   "metadata": {},
   "outputs": [],
   "source": [
    "mu = expected_returns.mean_historical_return(etf_df, returns_data=True)\n",
    "S = risk_models.sample_cov(etf_df, returns_data=True)"
   ]
  },
  {
   "cell_type": "code",
   "execution_count": 797,
   "metadata": {},
   "outputs": [],
   "source": [
    "ef_2 = EfficientFrontier(mu, S)\n",
    "ef_2.add_objective(objective_functions.L2_reg, gamma=5)"
   ]
  },
  {
   "cell_type": "code",
   "execution_count": 798,
   "metadata": {},
   "outputs": [
    {
     "name": "stdout",
     "output_type": "stream",
     "text": [
      "OrderedDict([('LREN3 Daily Return', 0.21469), ('JO Daily Returns', 0.22709), ('SOYB Daily Returns', 0.14222), ('WEAT Daily Returns', 0.11246), ('CORN Daily Returns', 0.21873), ('XLI Daily Returns', 0.0848), ('IYC Daily Returns', 0.0)])\n",
      "Expected annual return: 14.5%\n",
      "Annual volatility: 15.6%\n",
      "Sharpe Ratio: 0.80\n"
     ]
    },
    {
     "name": "stderr",
     "output_type": "stream",
     "text": [
      "C:\\Users\\raahimsal\\Anaconda3\\lib\\site-packages\\pypfopt\\efficient_frontier.py:182: UserWarning: max_sharpe transforms the optimisation problem so additional objectives may not work as expected.\n",
      "  \"max_sharpe transforms the optimisation problem so additional objectives may not work as expected.\"\n"
     ]
    },
    {
     "data": {
      "text/plain": [
       "(0.14528221438042843, 0.1560175568979435, 0.8030007447327219)"
      ]
     },
     "execution_count": 798,
     "metadata": {},
     "output_type": "execute_result"
    }
   ],
   "source": [
    "raw_weights = ef_2.max_sharpe()\n",
    "cleaned_weights = ef_2.clean_weights()\n",
    "ef_2.save_weights_to_file(\"weights.csv\")  # saves to file\n",
    "print(cleaned_weights)\n",
    "ef_2.portfolio_performance(verbose=True)"
   ]
  },
  {
   "cell_type": "code",
   "execution_count": 773,
   "metadata": {},
   "outputs": [
    {
     "data": {
      "text/html": [
       "<div>\n",
       "<style scoped>\n",
       "    .dataframe tbody tr th:only-of-type {\n",
       "        vertical-align: middle;\n",
       "    }\n",
       "\n",
       "    .dataframe tbody tr th {\n",
       "        vertical-align: top;\n",
       "    }\n",
       "\n",
       "    .dataframe thead th {\n",
       "        text-align: right;\n",
       "    }\n",
       "</style>\n",
       "<table border=\"1\" class=\"dataframe\">\n",
       "  <thead>\n",
       "    <tr style=\"text-align: right;\">\n",
       "      <th></th>\n",
       "      <th>LREN3 Daily Return</th>\n",
       "      <th>0.21469</th>\n",
       "    </tr>\n",
       "  </thead>\n",
       "  <tbody>\n",
       "    <tr>\n",
       "      <th>0</th>\n",
       "      <td>JO Daily Returns</td>\n",
       "      <td>0.22709</td>\n",
       "    </tr>\n",
       "    <tr>\n",
       "      <th>1</th>\n",
       "      <td>SOYB Daily Returns</td>\n",
       "      <td>0.14222</td>\n",
       "    </tr>\n",
       "    <tr>\n",
       "      <th>2</th>\n",
       "      <td>WEAT Daily Returns</td>\n",
       "      <td>0.11246</td>\n",
       "    </tr>\n",
       "    <tr>\n",
       "      <th>3</th>\n",
       "      <td>CORN Daily Returns</td>\n",
       "      <td>0.21873</td>\n",
       "    </tr>\n",
       "    <tr>\n",
       "      <th>4</th>\n",
       "      <td>XLI Daily Returns</td>\n",
       "      <td>0.08480</td>\n",
       "    </tr>\n",
       "    <tr>\n",
       "      <th>5</th>\n",
       "      <td>IYC Daily Returns</td>\n",
       "      <td>0.00000</td>\n",
       "    </tr>\n",
       "  </tbody>\n",
       "</table>\n",
       "</div>"
      ],
      "text/plain": [
       "   LREN3 Daily Return  0.21469\n",
       "0    JO Daily Returns  0.22709\n",
       "1  SOYB Daily Returns  0.14222\n",
       "2  WEAT Daily Returns  0.11246\n",
       "3  CORN Daily Returns  0.21873\n",
       "4   XLI Daily Returns  0.08480\n",
       "5   IYC Daily Returns  0.00000"
      ]
     },
     "execution_count": 773,
     "metadata": {},
     "output_type": "execute_result"
    }
   ],
   "source": [
    "weights"
   ]
  },
  {
   "cell_type": "code",
   "execution_count": 776,
   "metadata": {},
   "outputs": [],
   "source": [
    "# etf_df.to_csv('etf_df.csv')"
   ]
  },
  {
   "cell_type": "code",
   "execution_count": 801,
   "metadata": {},
   "outputs": [],
   "source": [
    "weights = [0.21469,0.22709,0.14222,0.11246, 0.21873, 0.08480, 0.0] "
   ]
  },
  {
   "cell_type": "code",
   "execution_count": 802,
   "metadata": {},
   "outputs": [
    {
     "data": {
      "text/plain": [
       "<matplotlib.axes._subplots.AxesSubplot at 0x28fff839808>"
      ]
     },
     "execution_count": 802,
     "metadata": {},
     "output_type": "execute_result"
    },
    {
     "data": {
      "image/png": "[encoded data removed]",
      "text/plain": [
       "<Figure size 432x288 with 1 Axes>"
      ]
     },
     "metadata": {
      "needs_background": "light"
     },
     "output_type": "display_data"
    }
   ],
   "source": [
    "test = etf_df * weights\n",
    "\n",
    "testt = test.sum(axis=1)\n",
    "testt.cumsum().plot()"
   ]
  },
  {
   "cell_type": "code",
   "execution_count": 804,
   "metadata": {},
   "outputs": [
    {
     "data": {
      "text/plain": [
       "<matplotlib.axes._subplots.AxesSubplot at 0x28fff8bb648>"
      ]
     },
     "execution_count": 804,
     "metadata": {},
     "output_type": "execute_result"
    },
    {
     "data": {
      "image/png": "[encoded data removed]",
      "text/plain": [
       "<Figure size 432x288 with 1 Axes>"
      ]
     },
     "metadata": {
      "needs_background": "light"
     },
     "output_type": "display_data"
    }
   ],
   "source": [
    "y.cumsum().plot()"
   ]
  }
 ],
 "metadata": {
  "kernelspec": {
   "display_name": "Python 3",
   "language": "python",
   "name": "python3"
  },
  "language_info": {
   "codemirror_mode": {
    "name": "ipython",
    "version": 3
   },
   "file_extension": ".py",
   "mimetype": "text/x-python",
   "name": "python",
   "nbconvert_exporter": "python",
   "pygments_lexer": "ipython3",
   "version": "3.7.7"
  }
 },
 "nbformat": 4,
 "nbformat_minor": 4
}
